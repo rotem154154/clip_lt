{
 "cells": [
  {
   "cell_type": "code",
   "execution_count": 10,
   "metadata": {
    "collapsed": true
   },
   "outputs": [],
   "source": [
    "import os\n",
    "import clip\n",
    "import torch\n",
    "from torchvision.datasets import CIFAR100\n",
    "import math\n",
    "from pytorch_lightning.loggers import WandbLogger\n",
    "from tqdm import tqdm\n",
    "import numpy as np\n",
    "import torch\n",
    "import pytorch_lightning as pl\n",
    "from filelock import FileLock\n",
    "from torch.utils.data import DataLoader, random_split\n",
    "from torch.nn import functional as F\n",
    "from torchvision.datasets import MNIST\n",
    "from torchvision import transforms\n",
    "import os\n",
    "import torchvision\n",
    "import clip\n",
    "from clip_lt.utils.labels_names import labels_names\n",
    "import torch.nn as nn\n",
    "from PIL import Image\n",
    "import time\n",
    "from clip_lt.utils.labels_names import labels_names\n",
    "import glob\n",
    "device = \"cuda\" if torch.cuda.is_available() else \"cpu\"\n",
    "clip_model, preprocess = clip.load('ViT-B/32', device)\n",
    "clip_model.eval()\n",
    "pass"
   ]
  },
  {
   "cell_type": "code",
   "execution_count": 19,
   "outputs": [],
   "source": [
    "dataset_dir_path = '/Volumes/black_ssd/datasets/imagenet_lt/'\n",
    "# dataset_dir_path = '/Users/rotemisraeli/Documents/datasets/TinyImageNet/'\n",
    "\n",
    "TRANSFORM_IMG = transforms.Compose([\n",
    "    transforms.Resize(224),\n",
    "    transforms.CenterCrop(224),\n",
    "    transforms.ToTensor(),\n",
    "    transforms.Normalize(mean=[0.485, 0.456, 0.406],\n",
    "                         std=[0.229, 0.224, 0.225] )\n",
    "])\n",
    "\n",
    "text_features = torch.load('../text_features2.pt')\n",
    "text_features = (text_features / text_features.norm(dim=-1, keepdim=True)).t().to(device)\n",
    "logit_scale = (nn.Parameter(torch.ones([]) * np.log(1 / 0.07))).exp().to(device)"
   ],
   "metadata": {
    "collapsed": false,
    "pycharm": {
     "name": "#%%\n"
    }
   }
  },
  {
   "cell_type": "code",
   "execution_count": null,
   "outputs": [
    {
     "name": "stderr",
     "output_type": "stream",
     "text": [
      "71.44827586206897:   3%|▎         | 29/1000 [07:37<4:14:11, 15.71s/it]"
     ]
    }
   ],
   "source": [
    "good = 0.0\n",
    "bad = 0.0\n",
    "with torch.no_grad():\n",
    "    tqdm_ = tqdm(range(1000))\n",
    "    for label in tqdm_:\n",
    "        for image_name in glob.glob(f'{dataset_dir_path}test/{label}/*'):\n",
    "            image = preprocess(Image.open(image_name)).unsqueeze(0).to(device)\n",
    "            torchvision.utils.save_image(image,'test2.png')\n",
    "            image_features = clip_model.encode_image(image)\n",
    "            image_features = image_features / image_features.norm(dim=-1, keepdim=True)\n",
    "            logits_per_image = logit_scale * image_features @ text_features\n",
    "            probs = logits_per_image.softmax(dim=-1)\n",
    "            predicted = torch.argmax(probs)\n",
    "            if predicted == label:\n",
    "                good += 1.0\n",
    "            else:\n",
    "                bad += 1.0\n",
    "            tqdm_.desc = f'{100*good/(good+bad)}'\n",
    "\n",
    "\n"
   ],
   "metadata": {
    "collapsed": false,
    "pycharm": {
     "name": "#%%\n",
     "is_executing": true
    }
   }
  },
  {
   "cell_type": "code",
   "execution_count": null,
   "outputs": [],
   "source": [],
   "metadata": {
    "collapsed": false,
    "pycharm": {
     "name": "#%%\n"
    }
   }
  },
  {
   "cell_type": "code",
   "execution_count": null,
   "outputs": [],
   "source": [],
   "metadata": {
    "collapsed": false,
    "pycharm": {
     "name": "#%%\n"
    }
   }
  }
 ],
 "metadata": {
  "kernelspec": {
   "display_name": "Python 3",
   "language": "python",
   "name": "python3"
  },
  "language_info": {
   "codemirror_mode": {
    "name": "ipython",
    "version": 2
   },
   "file_extension": ".py",
   "mimetype": "text/x-python",
   "name": "python",
   "nbconvert_exporter": "python",
   "pygments_lexer": "ipython2",
   "version": "2.7.6"
  }
 },
 "nbformat": 4,
 "nbformat_minor": 0
}